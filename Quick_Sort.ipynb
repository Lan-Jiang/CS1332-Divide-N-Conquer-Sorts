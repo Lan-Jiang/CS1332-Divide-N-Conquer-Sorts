{
 "cells": [
  {
   "cell_type": "code",
   "execution_count": null,
   "metadata": {},
   "outputs": [],
   "source": [
    "# Quick sort in Python\n",
    "\n",
    "def partition(A, l, r):\n",
    "    pivot = A[r]\n",
    "    i = l-1\n",
    "    for j in range(l, r):\n",
    "        if A[j] < pivot:\n",
    "            i+=1\n",
    "            A[i], A[j] = A[j], A[i]\n",
    "    A[i+1], A[r] = A[r], A[i+1]\n",
    "    return i+1\n",
    "    \n",
    "def quick_sort(A, l, r):\n",
    "    if l<r:\n",
    "        pivot_index = partition(A, l, r)\n",
    "        quick_sort(A, l, pivot_index-1)\n",
    "        quick_sort(A, pivot_index+1, r)\n",
    "        \n",
    "A=[4, 3, 1, 5, 2, 6, 7]\n",
    "quick_sort(A, 0, len(A)-1)"
   ]
  }
 ],
 "metadata": {
  "language_info": {
   "name": "python"
  },
  "orig_nbformat": 4
 },
 "nbformat": 4,
 "nbformat_minor": 2
}
